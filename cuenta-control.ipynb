{
 "cells": [
  {
   "cell_type": "markdown",
   "metadata": {},
   "source": [
    "Cuenta de Control"
   ]
  },
  {
   "cell_type": "code",
   "execution_count": 1,
   "metadata": {},
   "outputs": [],
   "source": [
    "import sqlite3\n",
    "import pandas as pd\n",
    "import numpy as np\n",
    "import matplotlib.pyplot as plt\n",
    "import seaborn"
   ]
  },
  {
   "cell_type": "code",
   "execution_count": 10,
   "metadata": {},
   "outputs": [],
   "source": [
    "cnn = sqlite3.connect('ctacontrol.db')"
   ]
  },
  {
   "cell_type": "code",
   "execution_count": 14,
   "metadata": {},
   "outputs": [],
   "source": [
    "df = pd.read_sql(\"select * from cuenta\",cnn)"
   ]
  },
  {
   "cell_type": "code",
   "execution_count": 15,
   "metadata": {},
   "outputs": [
    {
     "data": {
      "text/html": [
       "<div>\n",
       "<style scoped>\n",
       "    .dataframe tbody tr th:only-of-type {\n",
       "        vertical-align: middle;\n",
       "    }\n",
       "\n",
       "    .dataframe tbody tr th {\n",
       "        vertical-align: top;\n",
       "    }\n",
       "\n",
       "    .dataframe thead th {\n",
       "        text-align: right;\n",
       "    }\n",
       "</style>\n",
       "<table border=\"1\" class=\"dataframe\">\n",
       "  <thead>\n",
       "    <tr style=\"text-align: right;\">\n",
       "      <th></th>\n",
       "      <th>num_ruc</th>\n",
       "      <th>cnt_comprobantes_x</th>\n",
       "      <th>mto_base_x</th>\n",
       "      <th>mto_imp_x</th>\n",
       "      <th>cnt_comprobantes_y</th>\n",
       "      <th>mto_base_y</th>\n",
       "      <th>mto_imp_y</th>\n",
       "      <th>merge</th>\n",
       "      <th>mes</th>\n",
       "      <th>dia</th>\n",
       "      <th>foto</th>\n",
       "      <th>periodo</th>\n",
       "      <th>num_form</th>\n",
       "      <th>range</th>\n",
       "      <th>NaN</th>\n",
       "    </tr>\n",
       "  </thead>\n",
       "  <tbody>\n",
       "    <tr>\n",
       "      <td>0</td>\n",
       "      <td>10035793521</td>\n",
       "      <td>28</td>\n",
       "      <td>218943.17</td>\n",
       "      <td>6568.34</td>\n",
       "      <td>6.0</td>\n",
       "      <td>36911.29</td>\n",
       "      <td>1107.34</td>\n",
       "      <td>0</td>\n",
       "      <td>11</td>\n",
       "      <td>5</td>\n",
       "      <td>dia</td>\n",
       "      <td>201910</td>\n",
       "      <td>626</td>\n",
       "      <td>range1</td>\n",
       "      <td>None</td>\n",
       "    </tr>\n",
       "    <tr>\n",
       "      <td>1</td>\n",
       "      <td>10062257151</td>\n",
       "      <td>70</td>\n",
       "      <td>282336.00</td>\n",
       "      <td>8470.08</td>\n",
       "      <td>15.0</td>\n",
       "      <td>42411.00</td>\n",
       "      <td>1272.33</td>\n",
       "      <td>0</td>\n",
       "      <td>11</td>\n",
       "      <td>5</td>\n",
       "      <td>dia</td>\n",
       "      <td>201910</td>\n",
       "      <td>626</td>\n",
       "      <td>range1</td>\n",
       "      <td>None</td>\n",
       "    </tr>\n",
       "    <tr>\n",
       "      <td>2</td>\n",
       "      <td>10076683722</td>\n",
       "      <td>1</td>\n",
       "      <td>10026.00</td>\n",
       "      <td>300.78</td>\n",
       "      <td>1.0</td>\n",
       "      <td>10026.00</td>\n",
       "      <td>300.78</td>\n",
       "      <td>1</td>\n",
       "      <td>11</td>\n",
       "      <td>5</td>\n",
       "      <td>dia</td>\n",
       "      <td>201910</td>\n",
       "      <td>626</td>\n",
       "      <td>range1</td>\n",
       "      <td>None</td>\n",
       "    </tr>\n",
       "    <tr>\n",
       "      <td>3</td>\n",
       "      <td>10153535057</td>\n",
       "      <td>39</td>\n",
       "      <td>266075.18</td>\n",
       "      <td>7982.24</td>\n",
       "      <td>25.0</td>\n",
       "      <td>204320.67</td>\n",
       "      <td>6129.61</td>\n",
       "      <td>0</td>\n",
       "      <td>11</td>\n",
       "      <td>5</td>\n",
       "      <td>dia</td>\n",
       "      <td>201910</td>\n",
       "      <td>626</td>\n",
       "      <td>range1</td>\n",
       "      <td>None</td>\n",
       "    </tr>\n",
       "    <tr>\n",
       "      <td>4</td>\n",
       "      <td>10166475762</td>\n",
       "      <td>27</td>\n",
       "      <td>215926.34</td>\n",
       "      <td>6477.79</td>\n",
       "      <td>12.0</td>\n",
       "      <td>99299.30</td>\n",
       "      <td>2978.98</td>\n",
       "      <td>0</td>\n",
       "      <td>11</td>\n",
       "      <td>5</td>\n",
       "      <td>dia</td>\n",
       "      <td>201910</td>\n",
       "      <td>626</td>\n",
       "      <td>range1</td>\n",
       "      <td>None</td>\n",
       "    </tr>\n",
       "    <tr>\n",
       "      <td>...</td>\n",
       "      <td>...</td>\n",
       "      <td>...</td>\n",
       "      <td>...</td>\n",
       "      <td>...</td>\n",
       "      <td>...</td>\n",
       "      <td>...</td>\n",
       "      <td>...</td>\n",
       "      <td>...</td>\n",
       "      <td>...</td>\n",
       "      <td>...</td>\n",
       "      <td>...</td>\n",
       "      <td>...</td>\n",
       "      <td>...</td>\n",
       "      <td>...</td>\n",
       "      <td>...</td>\n",
       "    </tr>\n",
       "    <tr>\n",
       "      <td>230214</td>\n",
       "      <td>20600657888</td>\n",
       "      <td>185</td>\n",
       "      <td>13507.66</td>\n",
       "      <td>264.98</td>\n",
       "      <td>185.0</td>\n",
       "      <td>13507.66</td>\n",
       "      <td>264.98</td>\n",
       "      <td>1</td>\n",
       "      <td>1</td>\n",
       "      <td>23</td>\n",
       "      <td>dia</td>\n",
       "      <td>201912</td>\n",
       "      <td>697</td>\n",
       "      <td>range1</td>\n",
       "      <td>None</td>\n",
       "    </tr>\n",
       "    <tr>\n",
       "      <td>230215</td>\n",
       "      <td>20600869940</td>\n",
       "      <td>11125</td>\n",
       "      <td>1897721.20</td>\n",
       "      <td>36997.46</td>\n",
       "      <td>11125.0</td>\n",
       "      <td>1897721.20</td>\n",
       "      <td>36997.46</td>\n",
       "      <td>1</td>\n",
       "      <td>1</td>\n",
       "      <td>23</td>\n",
       "      <td>dia</td>\n",
       "      <td>201912</td>\n",
       "      <td>697</td>\n",
       "      <td>range3</td>\n",
       "      <td>None</td>\n",
       "    </tr>\n",
       "    <tr>\n",
       "      <td>230216</td>\n",
       "      <td>20601083516</td>\n",
       "      <td>1</td>\n",
       "      <td>40.07</td>\n",
       "      <td>0.79</td>\n",
       "      <td>1.0</td>\n",
       "      <td>40.07</td>\n",
       "      <td>0.79</td>\n",
       "      <td>1</td>\n",
       "      <td>1</td>\n",
       "      <td>23</td>\n",
       "      <td>dia</td>\n",
       "      <td>201912</td>\n",
       "      <td>697</td>\n",
       "      <td>range1</td>\n",
       "      <td>None</td>\n",
       "    </tr>\n",
       "    <tr>\n",
       "      <td>230217</td>\n",
       "      <td>20601274699</td>\n",
       "      <td>2443</td>\n",
       "      <td>1815336.01</td>\n",
       "      <td>35595.16</td>\n",
       "      <td>2443.0</td>\n",
       "      <td>1815336.01</td>\n",
       "      <td>35595.16</td>\n",
       "      <td>1</td>\n",
       "      <td>1</td>\n",
       "      <td>23</td>\n",
       "      <td>dia</td>\n",
       "      <td>201912</td>\n",
       "      <td>697</td>\n",
       "      <td>range2</td>\n",
       "      <td>None</td>\n",
       "    </tr>\n",
       "    <tr>\n",
       "      <td>230218</td>\n",
       "      <td>20601373875</td>\n",
       "      <td>85723</td>\n",
       "      <td>9326853.11</td>\n",
       "      <td>177804.72</td>\n",
       "      <td>18600.0</td>\n",
       "      <td>1909915.81</td>\n",
       "      <td>36103.91</td>\n",
       "      <td>0</td>\n",
       "      <td>1</td>\n",
       "      <td>23</td>\n",
       "      <td>dia</td>\n",
       "      <td>201912</td>\n",
       "      <td>697</td>\n",
       "      <td>range3</td>\n",
       "      <td>None</td>\n",
       "    </tr>\n",
       "  </tbody>\n",
       "</table>\n",
       "<p>230219 rows × 15 columns</p>\n",
       "</div>"
      ],
      "text/plain": [
       "            num_ruc  cnt_comprobantes_x  mto_base_x  mto_imp_x  \\\n",
       "0       10035793521                  28   218943.17    6568.34   \n",
       "1       10062257151                  70   282336.00    8470.08   \n",
       "2       10076683722                   1    10026.00     300.78   \n",
       "3       10153535057                  39   266075.18    7982.24   \n",
       "4       10166475762                  27   215926.34    6477.79   \n",
       "...             ...                 ...         ...        ...   \n",
       "230214  20600657888                 185    13507.66     264.98   \n",
       "230215  20600869940               11125  1897721.20   36997.46   \n",
       "230216  20601083516                   1       40.07       0.79   \n",
       "230217  20601274699                2443  1815336.01   35595.16   \n",
       "230218  20601373875               85723  9326853.11  177804.72   \n",
       "\n",
       "        cnt_comprobantes_y  mto_base_y  mto_imp_y  merge  mes  dia foto  \\\n",
       "0                      6.0    36911.29    1107.34      0   11    5  dia   \n",
       "1                     15.0    42411.00    1272.33      0   11    5  dia   \n",
       "2                      1.0    10026.00     300.78      1   11    5  dia   \n",
       "3                     25.0   204320.67    6129.61      0   11    5  dia   \n",
       "4                     12.0    99299.30    2978.98      0   11    5  dia   \n",
       "...                    ...         ...        ...    ...  ...  ...  ...   \n",
       "230214               185.0    13507.66     264.98      1    1   23  dia   \n",
       "230215             11125.0  1897721.20   36997.46      1    1   23  dia   \n",
       "230216                 1.0       40.07       0.79      1    1   23  dia   \n",
       "230217              2443.0  1815336.01   35595.16      1    1   23  dia   \n",
       "230218             18600.0  1909915.81   36103.91      0    1   23  dia   \n",
       "\n",
       "        periodo  num_form   range   NaN  \n",
       "0        201910       626  range1  None  \n",
       "1        201910       626  range1  None  \n",
       "2        201910       626  range1  None  \n",
       "3        201910       626  range1  None  \n",
       "4        201910       626  range1  None  \n",
       "...         ...       ...     ...   ...  \n",
       "230214   201912       697  range1  None  \n",
       "230215   201912       697  range3  None  \n",
       "230216   201912       697  range1  None  \n",
       "230217   201912       697  range2  None  \n",
       "230218   201912       697  range3  None  \n",
       "\n",
       "[230219 rows x 15 columns]"
      ]
     },
     "execution_count": 15,
     "metadata": {},
     "output_type": "execute_result"
    }
   ],
   "source": [
    "df"
   ]
  },
  {
   "cell_type": "code",
   "execution_count": 44,
   "metadata": {},
   "outputs": [
    {
     "data": {
      "text/html": [
       "<div>\n",
       "<style scoped>\n",
       "    .dataframe tbody tr th:only-of-type {\n",
       "        vertical-align: middle;\n",
       "    }\n",
       "\n",
       "    .dataframe tbody tr th {\n",
       "        vertical-align: top;\n",
       "    }\n",
       "\n",
       "    .dataframe thead th {\n",
       "        text-align: right;\n",
       "    }\n",
       "</style>\n",
       "<table border=\"1\" class=\"dataframe\">\n",
       "  <thead>\n",
       "    <tr style=\"text-align: right;\">\n",
       "      <th></th>\n",
       "      <th>num_ruc</th>\n",
       "      <th>cnt_comprobantes_x</th>\n",
       "      <th>cnt_comprobantes_y</th>\n",
       "      <th>merge</th>\n",
       "      <th>mes</th>\n",
       "      <th>dia</th>\n",
       "      <th>periodo</th>\n",
       "      <th>num_form</th>\n",
       "      <th>foto</th>\n",
       "    </tr>\n",
       "  </thead>\n",
       "  <tbody>\n",
       "    <tr>\n",
       "      <td>0</td>\n",
       "      <td>10035793521</td>\n",
       "      <td>28</td>\n",
       "      <td>6.0</td>\n",
       "      <td>0</td>\n",
       "      <td>11</td>\n",
       "      <td>5</td>\n",
       "      <td>201910</td>\n",
       "      <td>626</td>\n",
       "      <td>dia</td>\n",
       "    </tr>\n",
       "    <tr>\n",
       "      <td>1</td>\n",
       "      <td>10062257151</td>\n",
       "      <td>70</td>\n",
       "      <td>15.0</td>\n",
       "      <td>0</td>\n",
       "      <td>11</td>\n",
       "      <td>5</td>\n",
       "      <td>201910</td>\n",
       "      <td>626</td>\n",
       "      <td>dia</td>\n",
       "    </tr>\n",
       "    <tr>\n",
       "      <td>2</td>\n",
       "      <td>10076683722</td>\n",
       "      <td>1</td>\n",
       "      <td>1.0</td>\n",
       "      <td>1</td>\n",
       "      <td>11</td>\n",
       "      <td>5</td>\n",
       "      <td>201910</td>\n",
       "      <td>626</td>\n",
       "      <td>dia</td>\n",
       "    </tr>\n",
       "    <tr>\n",
       "      <td>3</td>\n",
       "      <td>10153535057</td>\n",
       "      <td>39</td>\n",
       "      <td>25.0</td>\n",
       "      <td>0</td>\n",
       "      <td>11</td>\n",
       "      <td>5</td>\n",
       "      <td>201910</td>\n",
       "      <td>626</td>\n",
       "      <td>dia</td>\n",
       "    </tr>\n",
       "    <tr>\n",
       "      <td>4</td>\n",
       "      <td>10166475762</td>\n",
       "      <td>27</td>\n",
       "      <td>12.0</td>\n",
       "      <td>0</td>\n",
       "      <td>11</td>\n",
       "      <td>5</td>\n",
       "      <td>201910</td>\n",
       "      <td>626</td>\n",
       "      <td>dia</td>\n",
       "    </tr>\n",
       "    <tr>\n",
       "      <td>...</td>\n",
       "      <td>...</td>\n",
       "      <td>...</td>\n",
       "      <td>...</td>\n",
       "      <td>...</td>\n",
       "      <td>...</td>\n",
       "      <td>...</td>\n",
       "      <td>...</td>\n",
       "      <td>...</td>\n",
       "      <td>...</td>\n",
       "    </tr>\n",
       "    <tr>\n",
       "      <td>230214</td>\n",
       "      <td>20600657888</td>\n",
       "      <td>185</td>\n",
       "      <td>185.0</td>\n",
       "      <td>1</td>\n",
       "      <td>1</td>\n",
       "      <td>23</td>\n",
       "      <td>201912</td>\n",
       "      <td>697</td>\n",
       "      <td>dia</td>\n",
       "    </tr>\n",
       "    <tr>\n",
       "      <td>230215</td>\n",
       "      <td>20600869940</td>\n",
       "      <td>11125</td>\n",
       "      <td>11125.0</td>\n",
       "      <td>1</td>\n",
       "      <td>1</td>\n",
       "      <td>23</td>\n",
       "      <td>201912</td>\n",
       "      <td>697</td>\n",
       "      <td>dia</td>\n",
       "    </tr>\n",
       "    <tr>\n",
       "      <td>230216</td>\n",
       "      <td>20601083516</td>\n",
       "      <td>1</td>\n",
       "      <td>1.0</td>\n",
       "      <td>1</td>\n",
       "      <td>1</td>\n",
       "      <td>23</td>\n",
       "      <td>201912</td>\n",
       "      <td>697</td>\n",
       "      <td>dia</td>\n",
       "    </tr>\n",
       "    <tr>\n",
       "      <td>230217</td>\n",
       "      <td>20601274699</td>\n",
       "      <td>2443</td>\n",
       "      <td>2443.0</td>\n",
       "      <td>1</td>\n",
       "      <td>1</td>\n",
       "      <td>23</td>\n",
       "      <td>201912</td>\n",
       "      <td>697</td>\n",
       "      <td>dia</td>\n",
       "    </tr>\n",
       "    <tr>\n",
       "      <td>230218</td>\n",
       "      <td>20601373875</td>\n",
       "      <td>85723</td>\n",
       "      <td>18600.0</td>\n",
       "      <td>0</td>\n",
       "      <td>1</td>\n",
       "      <td>23</td>\n",
       "      <td>201912</td>\n",
       "      <td>697</td>\n",
       "      <td>dia</td>\n",
       "    </tr>\n",
       "  </tbody>\n",
       "</table>\n",
       "<p>230219 rows × 9 columns</p>\n",
       "</div>"
      ],
      "text/plain": [
       "            num_ruc  cnt_comprobantes_x  cnt_comprobantes_y  merge  mes  dia  \\\n",
       "0       10035793521                  28                 6.0      0   11    5   \n",
       "1       10062257151                  70                15.0      0   11    5   \n",
       "2       10076683722                   1                 1.0      1   11    5   \n",
       "3       10153535057                  39                25.0      0   11    5   \n",
       "4       10166475762                  27                12.0      0   11    5   \n",
       "...             ...                 ...                 ...    ...  ...  ...   \n",
       "230214  20600657888                 185               185.0      1    1   23   \n",
       "230215  20600869940               11125             11125.0      1    1   23   \n",
       "230216  20601083516                   1                 1.0      1    1   23   \n",
       "230217  20601274699                2443              2443.0      1    1   23   \n",
       "230218  20601373875               85723             18600.0      0    1   23   \n",
       "\n",
       "        periodo  num_form foto  \n",
       "0        201910       626  dia  \n",
       "1        201910       626  dia  \n",
       "2        201910       626  dia  \n",
       "3        201910       626  dia  \n",
       "4        201910       626  dia  \n",
       "...         ...       ...  ...  \n",
       "230214   201912       697  dia  \n",
       "230215   201912       697  dia  \n",
       "230216   201912       697  dia  \n",
       "230217   201912       697  dia  \n",
       "230218   201912       697  dia  \n",
       "\n",
       "[230219 rows x 9 columns]"
      ]
     },
     "execution_count": 44,
     "metadata": {},
     "output_type": "execute_result"
    }
   ],
   "source": [
    "columns = [\"num_ruc\",\"cnt_comprobantes_x\",\"cnt_comprobantes_y\",\"merge\",\"mes\",\"dia\",\"periodo\",\"num_form\",\"foto\"]\n",
    "dt = df[columns]\n",
    "dt"
   ]
  },
  {
   "cell_type": "code",
   "execution_count": 47,
   "metadata": {},
   "outputs": [
    {
     "data": {
      "text/html": [
       "<div>\n",
       "<style scoped>\n",
       "    .dataframe tbody tr th:only-of-type {\n",
       "        vertical-align: middle;\n",
       "    }\n",
       "\n",
       "    .dataframe tbody tr th {\n",
       "        vertical-align: top;\n",
       "    }\n",
       "\n",
       "    .dataframe thead th {\n",
       "        text-align: right;\n",
       "    }\n",
       "</style>\n",
       "<table border=\"1\" class=\"dataframe\">\n",
       "  <thead>\n",
       "    <tr style=\"text-align: right;\">\n",
       "      <th></th>\n",
       "      <th></th>\n",
       "      <th></th>\n",
       "      <th></th>\n",
       "      <th>num_ruc</th>\n",
       "    </tr>\n",
       "    <tr>\n",
       "      <th>mes</th>\n",
       "      <th>dia</th>\n",
       "      <th>num_form</th>\n",
       "      <th>foto</th>\n",
       "      <th></th>\n",
       "    </tr>\n",
       "  </thead>\n",
       "  <tbody>\n",
       "    <tr>\n",
       "      <td rowspan=\"5\" valign=\"top\">1</td>\n",
       "      <td rowspan=\"5\" valign=\"top\">1</td>\n",
       "      <td rowspan=\"2\" valign=\"top\">626</td>\n",
       "      <td>dia</td>\n",
       "      <td>3022</td>\n",
       "    </tr>\n",
       "    <tr>\n",
       "      <td>tarde</td>\n",
       "      <td>3124</td>\n",
       "    </tr>\n",
       "    <tr>\n",
       "      <td rowspan=\"2\" valign=\"top\">633</td>\n",
       "      <td>dia</td>\n",
       "      <td>13</td>\n",
       "    </tr>\n",
       "    <tr>\n",
       "      <td>tarde</td>\n",
       "      <td>13</td>\n",
       "    </tr>\n",
       "    <tr>\n",
       "      <td>697</td>\n",
       "      <td>dia</td>\n",
       "      <td>385</td>\n",
       "    </tr>\n",
       "    <tr>\n",
       "      <td>...</td>\n",
       "      <td>...</td>\n",
       "      <td>...</td>\n",
       "      <td>...</td>\n",
       "      <td>...</td>\n",
       "    </tr>\n",
       "    <tr>\n",
       "      <td rowspan=\"5\" valign=\"top\">12</td>\n",
       "      <td rowspan=\"5\" valign=\"top\">30</td>\n",
       "      <td>626</td>\n",
       "      <td>tarde</td>\n",
       "      <td>3116</td>\n",
       "    </tr>\n",
       "    <tr>\n",
       "      <td rowspan=\"2\" valign=\"top\">633</td>\n",
       "      <td>dia</td>\n",
       "      <td>13</td>\n",
       "    </tr>\n",
       "    <tr>\n",
       "      <td>tarde</td>\n",
       "      <td>13</td>\n",
       "    </tr>\n",
       "    <tr>\n",
       "      <td rowspan=\"2\" valign=\"top\">697</td>\n",
       "      <td>dia</td>\n",
       "      <td>410</td>\n",
       "    </tr>\n",
       "    <tr>\n",
       "      <td>tarde</td>\n",
       "      <td>410</td>\n",
       "    </tr>\n",
       "  </tbody>\n",
       "</table>\n",
       "<p>192 rows × 1 columns</p>\n",
       "</div>"
      ],
      "text/plain": [
       "                        num_ruc\n",
       "mes dia num_form foto          \n",
       "1   1   626      dia       3022\n",
       "                 tarde     3124\n",
       "        633      dia         13\n",
       "                 tarde       13\n",
       "        697      dia        385\n",
       "...                         ...\n",
       "12  30  626      tarde     3116\n",
       "        633      dia         13\n",
       "                 tarde       13\n",
       "        697      dia        410\n",
       "                 tarde      410\n",
       "\n",
       "[192 rows x 1 columns]"
      ]
     },
     "execution_count": 47,
     "metadata": {},
     "output_type": "execute_result"
    }
   ],
   "source": [
    "d1 = dt.groupby([\"mes\",\"dia\",\"num_form\",\"foto\"])[\"num_ruc\"].count().to_frame()\n",
    "d1.head(100)"
   ]
  },
  {
   "cell_type": "code",
   "execution_count": 51,
   "metadata": {},
   "outputs": [],
   "source": [
    "d2 = d1.groupby(\"num_form\").mean()"
   ]
  },
  {
   "cell_type": "code",
   "execution_count": 52,
   "metadata": {},
   "outputs": [
    {
     "data": {
      "text/plain": [
       "<matplotlib.axes._subplots.AxesSubplot at 0x13fa0310>"
      ]
     },
     "execution_count": 52,
     "metadata": {},
     "output_type": "execute_result"
    },
    {
     "data": {
      "image/png": "[encoded data removed]",
      "text/plain": [
       "<Figure size 432x288 with 1 Axes>"
      ]
     },
     "metadata": {
      "needs_background": "light"
     },
     "output_type": "display_data"
    }
   ],
   "source": [
    "d2.plot(kind=\"bar\")"
   ]
  },
  {
   "cell_type": "code",
   "execution_count": 53,
   "metadata": {},
   "outputs": [
    {
     "data": {
      "text/html": [
       "<div>\n",
       "<style scoped>\n",
       "    .dataframe tbody tr th:only-of-type {\n",
       "        vertical-align: middle;\n",
       "    }\n",
       "\n",
       "    .dataframe tbody tr th {\n",
       "        vertical-align: top;\n",
       "    }\n",
       "\n",
       "    .dataframe thead th {\n",
       "        text-align: right;\n",
       "    }\n",
       "</style>\n",
       "<table border=\"1\" class=\"dataframe\">\n",
       "  <thead>\n",
       "    <tr style=\"text-align: right;\">\n",
       "      <th></th>\n",
       "      <th>num_ruc</th>\n",
       "    </tr>\n",
       "    <tr>\n",
       "      <th>num_form</th>\n",
       "      <th></th>\n",
       "    </tr>\n",
       "  </thead>\n",
       "  <tbody>\n",
       "    <tr>\n",
       "      <td>626</td>\n",
       "      <td>3167.687500</td>\n",
       "    </tr>\n",
       "    <tr>\n",
       "      <td>633</td>\n",
       "      <td>13.187500</td>\n",
       "    </tr>\n",
       "    <tr>\n",
       "      <td>697</td>\n",
       "      <td>416.296875</td>\n",
       "    </tr>\n",
       "  </tbody>\n",
       "</table>\n",
       "</div>"
      ],
      "text/plain": [
       "              num_ruc\n",
       "num_form             \n",
       "626       3167.687500\n",
       "633         13.187500\n",
       "697        416.296875"
      ]
     },
     "execution_count": 53,
     "metadata": {},
     "output_type": "execute_result"
    }
   ],
   "source": [
    "d2"
   ]
  },
  {
   "cell_type": "code",
   "execution_count": 55,
   "metadata": {},
   "outputs": [
    {
     "data": {
      "text/html": [
       "<div>\n",
       "<style scoped>\n",
       "    .dataframe tbody tr th:only-of-type {\n",
       "        vertical-align: middle;\n",
       "    }\n",
       "\n",
       "    .dataframe tbody tr th {\n",
       "        vertical-align: top;\n",
       "    }\n",
       "\n",
       "    .dataframe thead th {\n",
       "        text-align: right;\n",
       "    }\n",
       "</style>\n",
       "<table border=\"1\" class=\"dataframe\">\n",
       "  <thead>\n",
       "    <tr style=\"text-align: right;\">\n",
       "      <th></th>\n",
       "      <th></th>\n",
       "      <th>num_ruc</th>\n",
       "    </tr>\n",
       "    <tr>\n",
       "      <th>mes</th>\n",
       "      <th>dia</th>\n",
       "      <th></th>\n",
       "    </tr>\n",
       "  </thead>\n",
       "  <tbody>\n",
       "    <tr>\n",
       "      <td rowspan=\"8\" valign=\"top\">1</td>\n",
       "      <td>1</td>\n",
       "      <td>6957</td>\n",
       "    </tr>\n",
       "    <tr>\n",
       "      <td>3</td>\n",
       "      <td>7183</td>\n",
       "    </tr>\n",
       "    <tr>\n",
       "      <td>6</td>\n",
       "      <td>7236</td>\n",
       "    </tr>\n",
       "    <tr>\n",
       "      <td>8</td>\n",
       "      <td>7248</td>\n",
       "    </tr>\n",
       "    <tr>\n",
       "      <td>15</td>\n",
       "      <td>7248</td>\n",
       "    </tr>\n",
       "    <tr>\n",
       "      <td>16</td>\n",
       "      <td>7251</td>\n",
       "    </tr>\n",
       "    <tr>\n",
       "      <td>21</td>\n",
       "      <td>7253</td>\n",
       "    </tr>\n",
       "    <tr>\n",
       "      <td>23</td>\n",
       "      <td>3627</td>\n",
       "    </tr>\n",
       "    <tr>\n",
       "      <td>2</td>\n",
       "      <td>1</td>\n",
       "      <td>3301</td>\n",
       "    </tr>\n",
       "    <tr>\n",
       "      <td rowspan=\"13\" valign=\"top\">11</td>\n",
       "      <td>5</td>\n",
       "      <td>7053</td>\n",
       "    </tr>\n",
       "    <tr>\n",
       "      <td>6</td>\n",
       "      <td>7077</td>\n",
       "    </tr>\n",
       "    <tr>\n",
       "      <td>7</td>\n",
       "      <td>7092</td>\n",
       "    </tr>\n",
       "    <tr>\n",
       "      <td>12</td>\n",
       "      <td>7098</td>\n",
       "    </tr>\n",
       "    <tr>\n",
       "      <td>15</td>\n",
       "      <td>7098</td>\n",
       "    </tr>\n",
       "    <tr>\n",
       "      <td>18</td>\n",
       "      <td>10646</td>\n",
       "    </tr>\n",
       "    <tr>\n",
       "      <td>19</td>\n",
       "      <td>7094</td>\n",
       "    </tr>\n",
       "    <tr>\n",
       "      <td>20</td>\n",
       "      <td>7096</td>\n",
       "    </tr>\n",
       "    <tr>\n",
       "      <td>21</td>\n",
       "      <td>7096</td>\n",
       "    </tr>\n",
       "    <tr>\n",
       "      <td>22</td>\n",
       "      <td>3548</td>\n",
       "    </tr>\n",
       "    <tr>\n",
       "      <td>26</td>\n",
       "      <td>7094</td>\n",
       "    </tr>\n",
       "    <tr>\n",
       "      <td>27</td>\n",
       "      <td>7094</td>\n",
       "    </tr>\n",
       "    <tr>\n",
       "      <td>28</td>\n",
       "      <td>3547</td>\n",
       "    </tr>\n",
       "    <tr>\n",
       "      <td rowspan=\"14\" valign=\"top\">12</td>\n",
       "      <td>1</td>\n",
       "      <td>6760</td>\n",
       "    </tr>\n",
       "    <tr>\n",
       "      <td>2</td>\n",
       "      <td>6943</td>\n",
       "    </tr>\n",
       "    <tr>\n",
       "      <td>3</td>\n",
       "      <td>6974</td>\n",
       "    </tr>\n",
       "    <tr>\n",
       "      <td>4</td>\n",
       "      <td>7005</td>\n",
       "    </tr>\n",
       "    <tr>\n",
       "      <td>5</td>\n",
       "      <td>3518</td>\n",
       "    </tr>\n",
       "    <tr>\n",
       "      <td>9</td>\n",
       "      <td>3538</td>\n",
       "    </tr>\n",
       "    <tr>\n",
       "      <td>10</td>\n",
       "      <td>7076</td>\n",
       "    </tr>\n",
       "    <tr>\n",
       "      <td>12</td>\n",
       "      <td>7078</td>\n",
       "    </tr>\n",
       "    <tr>\n",
       "      <td>13</td>\n",
       "      <td>7078</td>\n",
       "    </tr>\n",
       "    <tr>\n",
       "      <td>17</td>\n",
       "      <td>7078</td>\n",
       "    </tr>\n",
       "    <tr>\n",
       "      <td>20</td>\n",
       "      <td>3539</td>\n",
       "    </tr>\n",
       "    <tr>\n",
       "      <td>24</td>\n",
       "      <td>3539</td>\n",
       "    </tr>\n",
       "    <tr>\n",
       "      <td>27</td>\n",
       "      <td>7078</td>\n",
       "    </tr>\n",
       "    <tr>\n",
       "      <td>30</td>\n",
       "      <td>7078</td>\n",
       "    </tr>\n",
       "  </tbody>\n",
       "</table>\n",
       "</div>"
      ],
      "text/plain": [
       "         num_ruc\n",
       "mes dia         \n",
       "1   1       6957\n",
       "    3       7183\n",
       "    6       7236\n",
       "    8       7248\n",
       "    15      7248\n",
       "    16      7251\n",
       "    21      7253\n",
       "    23      3627\n",
       "2   1       3301\n",
       "11  5       7053\n",
       "    6       7077\n",
       "    7       7092\n",
       "    12      7098\n",
       "    15      7098\n",
       "    18     10646\n",
       "    19      7094\n",
       "    20      7096\n",
       "    21      7096\n",
       "    22      3548\n",
       "    26      7094\n",
       "    27      7094\n",
       "    28      3547\n",
       "12  1       6760\n",
       "    2       6943\n",
       "    3       6974\n",
       "    4       7005\n",
       "    5       3518\n",
       "    9       3538\n",
       "    10      7076\n",
       "    12      7078\n",
       "    13      7078\n",
       "    17      7078\n",
       "    20      3539\n",
       "    24      3539\n",
       "    27      7078\n",
       "    30      7078"
      ]
     },
     "execution_count": 55,
     "metadata": {},
     "output_type": "execute_result"
    }
   ],
   "source": [
    "d3 = dt.groupby([\"mes\",\"dia\"])[\"num_ruc\"].count().to_frame()\n",
    "d3"
   ]
  },
  {
   "cell_type": "code",
   "execution_count": null,
   "metadata": {},
   "outputs": [],
   "source": [
    "d4 = dt.groupby([\"mes\",\"dia\",\"num_form\",\"foto\"])[\"num_ruc\"].count().to_frame()"
   ]
  },
  {
   "cell_type": "code",
   "execution_count": 94,
   "metadata": {},
   "outputs": [],
   "source": [
    "d4 = dt.loc[dt[\"num_form\"]==626,[\"num_ruc\",\"cnt_comprobantes_x\"]].groupby(\"num_ruc\").mean()\n",
    "d4 = d4.round(0)"
   ]
  },
  {
   "cell_type": "code",
   "execution_count": 125,
   "metadata": {},
   "outputs": [
    {
     "data": {
      "text/plain": [
       "array([1.0000e+00, 2.5110e+02, 5.0120e+02, 7.5130e+02, 1.0014e+03,\n",
       "       1.2515e+03, 1.5016e+03, 1.7517e+03, 2.0018e+03, 2.2519e+03,\n",
       "       2.5020e+03])"
      ]
     },
     "execution_count": 125,
     "metadata": {},
     "output_type": "execute_result"
    }
   ],
   "source": [
    "count, bin_edges = np.histogram(d4)\n",
    "bin_edges"
   ]
  },
  {
   "cell_type": "code",
   "execution_count": null,
   "metadata": {},
   "outputs": [],
   "source": [
    "d4.reset_index(level=0, inplace=True)"
   ]
  },
  {
   "cell_type": "code",
   "execution_count": 93,
   "metadata": {},
   "outputs": [
    {
     "data": {
      "text/plain": [
       "array([[<matplotlib.axes._subplots.AxesSubplot object at 0x1EC1CAF0>]],\n",
       "      dtype=object)"
      ]
     },
     "execution_count": 93,
     "metadata": {},
     "output_type": "execute_result"
    },
    {
     "data": {
      "image/png": "[encoded data removed]",
      "text/plain": [
       "<Figure size 432x288 with 1 Axes>"
      ]
     },
     "metadata": {
      "needs_background": "light"
     },
     "output_type": "display_data"
    }
   ],
   "source": [
    "d4.hist(column = \"num_ruc\", bins=1000, grid=False)"
   ]
  },
  {
   "cell_type": "code",
   "execution_count": 137,
   "metadata": {},
   "outputs": [
    {
     "data": {
      "text/plain": [
       "<matplotlib.legend.Legend at 0x21387f90>"
      ]
     },
     "execution_count": 137,
     "metadata": {},
     "output_type": "execute_result"
    },
    {
     "data": {
      "image/png": "[encoded data removed]",
      "text/plain": [
       "<Figure size 432x288 with 1 Axes>"
      ]
     },
     "metadata": {
      "needs_background": "light"
     },
     "output_type": "display_data"
    }
   ],
   "source": [
    "d4.plot(kind=\"hist\",rwidth=0.5, xticks = bin_edges)\n",
    "plt.legend()\n"
   ]
  },
  {
   "cell_type": "code",
   "execution_count": 98,
   "metadata": {},
   "outputs": [
    {
     "data": {
      "text/plain": [
       "<bound method PlotAccessor.hist of <pandas.plotting._core.PlotAccessor object at 0x1EBC66F0>>"
      ]
     },
     "execution_count": 98,
     "metadata": {},
     "output_type": "execute_result"
    }
   ],
   "source": [
    "d4.plot.hist"
   ]
  },
  {
   "cell_type": "code",
   "execution_count": 171,
   "metadata": {},
   "outputs": [
    {
     "data": {
      "text/plain": [
       "<matplotlib.axes._subplots.AxesSubplot at 0x2304cef0>"
      ]
     },
     "execution_count": 171,
     "metadata": {},
     "output_type": "execute_result"
    },
    {
     "data": {
      "image/png": "[encoded data removed]",
      "text/plain": [
       "<Figure size 432x288 with 1 Axes>"
      ]
     },
     "metadata": {
      "needs_background": "light"
     },
     "output_type": "display_data"
    }
   ],
   "source": [
    "seaborn.distplot(d4,kde=False,bins=15)"
   ]
  },
  {
   "cell_type": "code",
   "execution_count": 176,
   "metadata": {},
   "outputs": [],
   "source": [
    "d5 = dt.loc[dt[\"num_form\"]==697,[\"num_ruc\",\"cnt_comprobantes_x\"]].groupby(\"num_ruc\").mean()\n",
    "d5 = d5.round(0)\n",
    "d6 = dt.loc[dt[\"num_form\"]==633,[\"num_ruc\",\"cnt_comprobantes_x\"]].groupby(\"num_ruc\").mean()\n",
    "d6 = d6.round(0)"
   ]
  },
  {
   "cell_type": "code",
   "execution_count": 115,
   "metadata": {},
   "outputs": [
    {
     "data": {
      "text/plain": [
       "<matplotlib.axes._subplots.AxesSubplot at 0x1ff1f250>"
      ]
     },
     "execution_count": 115,
     "metadata": {},
     "output_type": "execute_result"
    },
    {
     "data": {
      "image/png": "[encoded data removed]",
      "text/plain": [
       "<Figure size 432x288 with 1 Axes>"
      ]
     },
     "metadata": {
      "needs_background": "light"
     },
     "output_type": "display_data"
    }
   ],
   "source": [
    "d5.plot(kind=\"hist\")"
   ]
  },
  {
   "cell_type": "code",
   "execution_count": 169,
   "metadata": {},
   "outputs": [
    {
     "data": {
      "text/plain": [
       "<matplotlib.axes._subplots.AxesSubplot at 0x22d63a50>"
      ]
     },
     "execution_count": 169,
     "metadata": {},
     "output_type": "execute_result"
    },
    {
     "data": {
      "image/png": "[encoded data removed]",
      "text/plain": [
       "<Figure size 432x288 with 1 Axes>"
      ]
     },
     "metadata": {
      "needs_background": "light"
     },
     "output_type": "display_data"
    }
   ],
   "source": [
    "seaborn.distplot(d5,kde=False,bins=15)"
   ]
  },
  {
   "cell_type": "code",
   "execution_count": 133,
   "metadata": {},
   "outputs": [],
   "source": [
    "d4 = d4.sort_values(by=[\"cnt_comprobantes_x\"])"
   ]
  },
  {
   "cell_type": "code",
   "execution_count": 135,
   "metadata": {},
   "outputs": [
    {
     "data": {
      "text/html": [
       "<div>\n",
       "<style scoped>\n",
       "    .dataframe tbody tr th:only-of-type {\n",
       "        vertical-align: middle;\n",
       "    }\n",
       "\n",
       "    .dataframe tbody tr th {\n",
       "        vertical-align: top;\n",
       "    }\n",
       "\n",
       "    .dataframe thead th {\n",
       "        text-align: right;\n",
       "    }\n",
       "</style>\n",
       "<table border=\"1\" class=\"dataframe\">\n",
       "  <thead>\n",
       "    <tr style=\"text-align: right;\">\n",
       "      <th></th>\n",
       "      <th>cnt_comprobantes_x</th>\n",
       "    </tr>\n",
       "    <tr>\n",
       "      <th>num_ruc</th>\n",
       "      <th></th>\n",
       "    </tr>\n",
       "  </thead>\n",
       "  <tbody>\n",
       "    <tr>\n",
       "      <td>20537757214</td>\n",
       "      <td>1.0</td>\n",
       "    </tr>\n",
       "    <tr>\n",
       "      <td>20504608191</td>\n",
       "      <td>1.0</td>\n",
       "    </tr>\n",
       "    <tr>\n",
       "      <td>20503889561</td>\n",
       "      <td>1.0</td>\n",
       "    </tr>\n",
       "    <tr>\n",
       "      <td>20134120909</td>\n",
       "      <td>1.0</td>\n",
       "    </tr>\n",
       "    <tr>\n",
       "      <td>20100562848</td>\n",
       "      <td>1.0</td>\n",
       "    </tr>\n",
       "    <tr>\n",
       "      <td>...</td>\n",
       "      <td>...</td>\n",
       "    </tr>\n",
       "    <tr>\n",
       "      <td>20332970411</td>\n",
       "      <td>818.0</td>\n",
       "    </tr>\n",
       "    <tr>\n",
       "      <td>20508565934</td>\n",
       "      <td>827.0</td>\n",
       "    </tr>\n",
       "    <tr>\n",
       "      <td>20109072177</td>\n",
       "      <td>1207.0</td>\n",
       "    </tr>\n",
       "    <tr>\n",
       "      <td>20100070970</td>\n",
       "      <td>1374.0</td>\n",
       "    </tr>\n",
       "    <tr>\n",
       "      <td>20131257750</td>\n",
       "      <td>2502.0</td>\n",
       "    </tr>\n",
       "  </tbody>\n",
       "</table>\n",
       "<p>3321 rows × 1 columns</p>\n",
       "</div>"
      ],
      "text/plain": [
       "             cnt_comprobantes_x\n",
       "num_ruc                        \n",
       "20537757214                 1.0\n",
       "20504608191                 1.0\n",
       "20503889561                 1.0\n",
       "20134120909                 1.0\n",
       "20100562848                 1.0\n",
       "...                         ...\n",
       "20332970411               818.0\n",
       "20508565934               827.0\n",
       "20109072177              1207.0\n",
       "20100070970              1374.0\n",
       "20131257750              2502.0\n",
       "\n",
       "[3321 rows x 1 columns]"
      ]
     },
     "execution_count": 135,
     "metadata": {},
     "output_type": "execute_result"
    }
   ],
   "source": [
    "d4"
   ]
  },
  {
   "cell_type": "code",
   "execution_count": 139,
   "metadata": {},
   "outputs": [],
   "source": [
    "from matplotlib.ticker import StrMethodFormatter\n"
   ]
  },
  {
   "cell_type": "code",
   "execution_count": 147,
   "metadata": {},
   "outputs": [
    {
     "data": {
      "image/png": "[encoded data removed]",
      "text/plain": [
       "<Figure size 864x576 with 1 Axes>"
      ]
     },
     "metadata": {
      "needs_background": "light"
     },
     "output_type": "display_data"
    }
   ],
   "source": [
    "ax = d4.hist(column='cnt_comprobantes_x', bins=45, grid=False, figsize=(12,8), color='#86bf91', zorder=2, rwidth=0.9)\n",
    "\n",
    "ax = ax[0]\n",
    "for x in ax:\n",
    "\n",
    "    # Despine\n",
    "    x.spines['right'].set_visible(False)\n",
    "    x.spines['top'].set_visible(False)\n",
    "    x.spines['left'].set_visible(False)\n",
    "\n",
    "    # Switch off ticks\n",
    "    x.tick_params(axis=\"both\", which=\"both\", bottom=\"off\", top=\"off\", labelbottom=\"on\", left=\"off\", right=\"off\", labelleft=\"on\")\n",
    "\n",
    "    # Draw horizontal axis lines\n",
    "    vals = x.get_yticks()\n",
    "    for tick in vals:\n",
    "        x.axhline(y=tick, linestyle='dashed', alpha=0.4, color='#eeeeee', zorder=1)\n",
    "\n",
    "    # Remove title\n",
    "    x.set_title(\"\")\n",
    "\n",
    "    # Set x-axis label\n",
    "    x.set_xlabel(\"Total\", labelpad=20, weight='bold', size=12)\n",
    "\n",
    "    # Set y-axis label\n",
    "    x.set_ylabel(\"Total de Agentes\", labelpad=20, weight='bold', size=12)\n",
    "\n",
    "    # Format y-axis label\n",
    "    x.yaxis.set_major_formatter(StrMethodFormatter('{x:,g}'))"
   ]
  },
  {
   "cell_type": "code",
   "execution_count": 167,
   "metadata": {},
   "outputs": [
    {
     "data": {
      "image/png": "[encoded data removed]",
      "text/plain": [
       "<Figure size 576x360 with 1 Axes>"
      ]
     },
     "metadata": {
      "needs_background": "light"
     },
     "output_type": "display_data"
    }
   ],
   "source": [
    "#count, bin_edges = np.histogram(d4)\n",
    " \n",
    "d4.plot(kind='hist', figsize=(8, 5), xticks=bin_edges)\n",
    " \n",
    "plt.xlabel('Cantidad de documentos') # add y-label\n",
    "plt.ylabel('Total de casos') # add x-label\n",
    " \n",
    "plt.show()"
   ]
  },
  {
   "cell_type": "code",
   "execution_count": 178,
   "metadata": {},
   "outputs": [],
   "source": [
    "d5 = d5.sort_values(by=[\"cnt_comprobantes_x\"])\n",
    "d6 = d6.sort_values(by=[\"cnt_comprobantes_x\"])"
   ]
  },
  {
   "cell_type": "code",
   "execution_count": 179,
   "metadata": {},
   "outputs": [
    {
     "data": {
      "text/html": [
       "<div>\n",
       "<style scoped>\n",
       "    .dataframe tbody tr th:only-of-type {\n",
       "        vertical-align: middle;\n",
       "    }\n",
       "\n",
       "    .dataframe tbody tr th {\n",
       "        vertical-align: top;\n",
       "    }\n",
       "\n",
       "    .dataframe thead th {\n",
       "        text-align: right;\n",
       "    }\n",
       "</style>\n",
       "<table border=\"1\" class=\"dataframe\">\n",
       "  <thead>\n",
       "    <tr style=\"text-align: right;\">\n",
       "      <th></th>\n",
       "      <th>cnt_comprobantes_x</th>\n",
       "    </tr>\n",
       "    <tr>\n",
       "      <th>num_ruc</th>\n",
       "      <th></th>\n",
       "    </tr>\n",
       "  </thead>\n",
       "  <tbody>\n",
       "    <tr>\n",
       "      <td>20298058490</td>\n",
       "      <td>1.0</td>\n",
       "    </tr>\n",
       "    <tr>\n",
       "      <td>20603309368</td>\n",
       "      <td>2.0</td>\n",
       "    </tr>\n",
       "    <tr>\n",
       "      <td>20552657803</td>\n",
       "      <td>5.0</td>\n",
       "    </tr>\n",
       "    <tr>\n",
       "      <td>20259829594</td>\n",
       "      <td>6.0</td>\n",
       "    </tr>\n",
       "    <tr>\n",
       "      <td>20506151547</td>\n",
       "      <td>308.0</td>\n",
       "    </tr>\n",
       "    <tr>\n",
       "      <td>20513251506</td>\n",
       "      <td>708.0</td>\n",
       "    </tr>\n",
       "    <tr>\n",
       "      <td>20601147450</td>\n",
       "      <td>844.0</td>\n",
       "    </tr>\n",
       "    <tr>\n",
       "      <td>20501458164</td>\n",
       "      <td>1252.0</td>\n",
       "    </tr>\n",
       "    <tr>\n",
       "      <td>20600427734</td>\n",
       "      <td>2244.0</td>\n",
       "    </tr>\n",
       "    <tr>\n",
       "      <td>20565643496</td>\n",
       "      <td>2793.0</td>\n",
       "    </tr>\n",
       "    <tr>\n",
       "      <td>20554545743</td>\n",
       "      <td>3149.0</td>\n",
       "    </tr>\n",
       "    <tr>\n",
       "      <td>20503840121</td>\n",
       "      <td>6947.0</td>\n",
       "    </tr>\n",
       "    <tr>\n",
       "      <td>20100128218</td>\n",
       "      <td>10981.0</td>\n",
       "    </tr>\n",
       "    <tr>\n",
       "      <td>20259033072</td>\n",
       "      <td>12459.0</td>\n",
       "    </tr>\n",
       "    <tr>\n",
       "      <td>20553167672</td>\n",
       "      <td>13298.0</td>\n",
       "    </tr>\n",
       "  </tbody>\n",
       "</table>\n",
       "</div>"
      ],
      "text/plain": [
       "             cnt_comprobantes_x\n",
       "num_ruc                        \n",
       "20298058490                 1.0\n",
       "20603309368                 2.0\n",
       "20552657803                 5.0\n",
       "20259829594                 6.0\n",
       "20506151547               308.0\n",
       "20513251506               708.0\n",
       "20601147450               844.0\n",
       "20501458164              1252.0\n",
       "20600427734              2244.0\n",
       "20565643496              2793.0\n",
       "20554545743              3149.0\n",
       "20503840121              6947.0\n",
       "20100128218             10981.0\n",
       "20259033072             12459.0\n",
       "20553167672             13298.0"
      ]
     },
     "execution_count": 179,
     "metadata": {},
     "output_type": "execute_result"
    }
   ],
   "source": [
    "d6"
   ]
  },
  {
   "cell_type": "code",
   "execution_count": 180,
   "metadata": {},
   "outputs": [
    {
     "data": {
      "text/html": [
       "<div>\n",
       "<style scoped>\n",
       "    .dataframe tbody tr th:only-of-type {\n",
       "        vertical-align: middle;\n",
       "    }\n",
       "\n",
       "    .dataframe tbody tr th {\n",
       "        vertical-align: top;\n",
       "    }\n",
       "\n",
       "    .dataframe thead th {\n",
       "        text-align: right;\n",
       "    }\n",
       "</style>\n",
       "<table border=\"1\" class=\"dataframe\">\n",
       "  <thead>\n",
       "    <tr style=\"text-align: right;\">\n",
       "      <th></th>\n",
       "      <th>cnt_comprobantes_x</th>\n",
       "    </tr>\n",
       "    <tr>\n",
       "      <th>num_ruc</th>\n",
       "      <th></th>\n",
       "    </tr>\n",
       "  </thead>\n",
       "  <tbody>\n",
       "    <tr>\n",
       "      <td>20604539812</td>\n",
       "      <td>1.0</td>\n",
       "    </tr>\n",
       "    <tr>\n",
       "      <td>10104655535</td>\n",
       "      <td>1.0</td>\n",
       "    </tr>\n",
       "    <tr>\n",
       "      <td>20108983583</td>\n",
       "      <td>1.0</td>\n",
       "    </tr>\n",
       "    <tr>\n",
       "      <td>20105043091</td>\n",
       "      <td>1.0</td>\n",
       "    </tr>\n",
       "    <tr>\n",
       "      <td>10238835963</td>\n",
       "      <td>1.0</td>\n",
       "    </tr>\n",
       "    <tr>\n",
       "      <td>...</td>\n",
       "      <td>...</td>\n",
       "    </tr>\n",
       "    <tr>\n",
       "      <td>20373209601</td>\n",
       "      <td>182914.0</td>\n",
       "    </tr>\n",
       "    <tr>\n",
       "      <td>20100102413</td>\n",
       "      <td>210170.0</td>\n",
       "    </tr>\n",
       "    <tr>\n",
       "      <td>20100078792</td>\n",
       "      <td>264099.0</td>\n",
       "    </tr>\n",
       "    <tr>\n",
       "      <td>20100113610</td>\n",
       "      <td>329093.0</td>\n",
       "    </tr>\n",
       "    <tr>\n",
       "      <td>20557079441</td>\n",
       "      <td>709032.0</td>\n",
       "    </tr>\n",
       "  </tbody>\n",
       "</table>\n",
       "<p>440 rows × 1 columns</p>\n",
       "</div>"
      ],
      "text/plain": [
       "             cnt_comprobantes_x\n",
       "num_ruc                        \n",
       "20604539812                 1.0\n",
       "10104655535                 1.0\n",
       "20108983583                 1.0\n",
       "20105043091                 1.0\n",
       "10238835963                 1.0\n",
       "...                         ...\n",
       "20373209601            182914.0\n",
       "20100102413            210170.0\n",
       "20100078792            264099.0\n",
       "20100113610            329093.0\n",
       "20557079441            709032.0\n",
       "\n",
       "[440 rows x 1 columns]"
      ]
     },
     "execution_count": 180,
     "metadata": {},
     "output_type": "execute_result"
    }
   ],
   "source": [
    "d5"
   ]
  },
  {
   "cell_type": "code",
   "execution_count": 190,
   "metadata": {},
   "outputs": [
    {
     "data": {
      "text/plain": [
       "cnt_comprobantes_x    8\n",
       "dtype: int64"
      ]
     },
     "execution_count": 190,
     "metadata": {},
     "output_type": "execute_result"
    }
   ],
   "source": [
    "d5[(d5[\"cnt_comprobantes_x\"]>=100000)&(d5[\"cnt_comprobantes_x\"]<1000000000)].count()"
   ]
  },
  {
   "cell_type": "code",
   "execution_count": 195,
   "metadata": {},
   "outputs": [
    {
     "data": {
      "text/plain": [
       "cnt_comprobantes_x    5\n",
       "dtype: int64"
      ]
     },
     "execution_count": 195,
     "metadata": {},
     "output_type": "execute_result"
    }
   ],
   "source": [
    "d6[(d6[\"cnt_comprobantes_x\"]>=1000)&(d6[\"cnt_comprobantes_x\"]<10000)].count()"
   ]
  },
  {
   "cell_type": "code",
   "execution_count": null,
   "metadata": {},
   "outputs": [],
   "source": []
  },
  {
   "cell_type": "code",
   "execution_count": null,
   "metadata": {},
   "outputs": [],
   "source": []
  },
  {
   "cell_type": "code",
   "execution_count": null,
   "metadata": {},
   "outputs": [],
   "source": []
  },
  {
   "cell_type": "code",
   "execution_count": 166,
   "metadata": {},
   "outputs": [],
   "source": [
    "bin_edges = np.array([1,100,200,500,1000,1500,2000,2500])"
   ]
  },
  {
   "cell_type": "code",
   "execution_count": 9,
   "metadata": {},
   "outputs": [],
   "source": [
    "cnn.close()"
   ]
  }
 ],
 "metadata": {
  "kernelspec": {
   "display_name": "Python 3",
   "language": "python",
   "name": "python3"
  },
  "language_info": {
   "codemirror_mode": {
    "name": "ipython",
    "version": 3
   },
   "file_extension": ".py",
   "mimetype": "text/x-python",
   "name": "python",
   "nbconvert_exporter": "python",
   "pygments_lexer": "ipython3",
   "version": "3.7.4"
  }
 },
 "nbformat": 4,
 "nbformat_minor": 4
}
